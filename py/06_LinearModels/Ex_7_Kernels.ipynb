{
 "cells": [
  {
   "cell_type": "code",
   "execution_count": null,
   "id": "b9e26e0c-81ab-41a5-adc4-c16698d2d0ee",
   "metadata": {},
   "outputs": [],
   "source": [
    "import numpy as np\n",
    "import matplotlib.pyplot as plt\n",
    "from matplotlib import colors\n",
    "%config InlineBackend.figure_formats = ['svg']\n",
    "plt.rcParams['image.cmap']='coolwarm'\n",
    "\n",
    "\n",
    "from matplotlib.lines import Line2D\n",
    "import itertools\n",
    "unfilled_markers = [m for m, func in Line2D.markers.items()\n",
    "                    if func != 'nothing' and m not in Line2D.filled_markers\n",
    "                    # if func != 'nothing' and m in Line2D.filled_markers\n",
    "                   ]\n",
    "marker = itertools.cycle(unfilled_markers) \n"
   ]
  },
  {
   "cell_type": "code",
   "execution_count": null,
   "id": "f10f2960-9885-44c9-83da-4c3a6445e3e6",
   "metadata": {},
   "outputs": [],
   "source": [
    "X = np.array([0, 2, 2.5, 4])\n",
    "y = np.array([1, 2, 2, 1])"
   ]
  },
  {
   "cell_type": "code",
   "execution_count": null,
   "id": "edadc04e-3773-4072-b9e3-ee0541bb6cd2",
   "metadata": {},
   "outputs": [],
   "source": [
    "plt.scatter(X, np.zeros_like(X), c=y, marker=next(marker), label=r'$x$')\n",
    "plt.legend()"
   ]
  },
  {
   "cell_type": "code",
   "execution_count": null,
   "id": "570936a1-802b-44d7-aa18-c2717df2881a",
   "metadata": {},
   "outputs": [],
   "source": [
    "def phi(x, c=0):\n",
    "    return np.vstack((x, (x-c)**2))\n",
    "\n",
    "X_ = phi(X)\n",
    "plt.scatter(X, np.zeros_like(X), c=y, marker=next(marker), label='$x$')\n",
    "plt.scatter(X_[0,:], X_[1,:], c=y, marker=next(marker), label=r'$\\varphi(x)$')\n",
    "plt.legend()"
   ]
  },
  {
   "cell_type": "code",
   "execution_count": null,
   "id": "fe03d2a1-d53e-40f8-bc7a-0cd3ac47bdb8",
   "metadata": {},
   "outputs": [],
   "source": [
    "plt.scatter(X, np.zeros_like(X), c=y, marker=next(marker), label=f'$x$')\n",
    "\n",
    "# for c in [-1,0,1]:\n",
    "for c in np.arange(-2,2,.5):\n",
    "    X_ = phi(X, c)\n",
    "    plt.plot(X_[0,:], X_[1,:], ':', c='gray', alpha=.25)\n",
    "    plt.scatter(X_[0,:], X_[1,:], c=y, marker=next(marker), label=rf'$\\varphi(x, c={c})$')\n",
    "plt.legend()    "
   ]
  },
  {
   "cell_type": "code",
   "execution_count": null,
   "id": "a3332684-7cc1-48cd-8867-915e378eb678",
   "metadata": {},
   "outputs": [],
   "source": [
    "from sklearn.metrics.pairwise import pairwise_kernels\n",
    "\n",
    "phi= lambda x, c=0: np.vstack((x**3,\n",
    "                               x**2 * np.sqrt(3*c),\n",
    "                               x * np.sqrt(3*c**2),\n",
    "                               np.sqrt(c**3)\n",
    "                              ))\n",
    "\n",
    "n = 100\n",
    "x = np.linspace(-3, 3, n)\n",
    "y = np.linspace(-3, 3, n)\n",
    "xx, yy = np.meshgrid(x, y)\n",
    "\n",
    "X = np.array([x])\n",
    "Y = np.array([y])\n",
    "\n",
    "from ipywidgets import interact\n",
    "@interact(c=(0,2,.1))\n",
    "def doK(c=0):\n",
    "    _, ax = plt.subplots(1, 1, subplot_kw={\"projection\": \"3d\"})\n",
    "    K=pairwise_kernels(X.transpose(), X.transpose(), metric=lambda x,x_: np.dot(phi(x,c).transpose(), phi(x_,c)))\n",
    "    ax.plot_surface(xx, yy, K, cmap='coolwarm', norm=colors.CenteredNorm())"
   ]
  }
 ],
 "metadata": {
  "kernelspec": {
   "display_name": "Python 3 (ipykernel)",
   "language": "python",
   "name": "python3"
  },
  "language_info": {
   "codemirror_mode": {
    "name": "ipython",
    "version": 3
   },
   "file_extension": ".py",
   "mimetype": "text/x-python",
   "name": "python",
   "nbconvert_exporter": "python",
   "pygments_lexer": "ipython3",
   "version": "3.10.8"
  }
 },
 "nbformat": 4,
 "nbformat_minor": 5
}
