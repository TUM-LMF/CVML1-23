{
 "cells": [
  {
   "cell_type": "code",
   "execution_count": 1,
   "id": "3d682176-bfc7-474f-af16-1d14276a5436",
   "metadata": {
    "tags": []
   },
   "outputs": [],
   "source": [
    "import numpy as np\n",
    "\n",
    "import matplotlib.pyplot as plt\n",
    "from matplotlib import cm\n",
    "import mpl_toolkits.mplot3d.axes3d as p3\n",
    "from matplotlib import colors\n",
    "\n",
    "from scipy.optimize import approx_fprime, line_search, rosen, golden\n",
    "\n",
    "import IPython, ipywidgets as widgets\n",
    "from ipywidgets import interact, fixed\n",
    "\n",
    "import warnings\n",
    "\n",
    "%matplotlib inline"
   ]
  },
  {
   "cell_type": "code",
   "execution_count": 2,
   "id": "815b368d-f531-4224-a0a8-27e2751201da",
   "metadata": {},
   "outputs": [],
   "source": [
    "def calculate_angles(s):\n",
    "    s_direction=np.copy(np.array(s))\n",
    "    zero_indices=np.linalg.norm(s_direction,axis=1)>1e-5\n",
    "    s_direction[zero_indices,:]=s_direction[zero_indices,:]/np.linalg.norm(s_direction[zero_indices,:],axis=1).reshape((-1,1))\n",
    "    s_direction_dot=np.sum(s_direction[:-1,:]*s_direction[1:,:],axis=1)\n",
    "    negative_indeces=s_direction_dot<0\n",
    "    s_direction_dot[negative_indeces]=-s_direction_dot[negative_indeces]\n",
    "    s_direction_dot=np.clip(np.abs(s_direction_dot), 0, 1)\n",
    "    phi=np.arccos(s_direction_dot)*180/np.pi\n",
    "    phi[negative_indeces]=180-phi[negative_indeces]\n",
    "    return phi"
   ]
  },
  {
   "cell_type": "code",
   "execution_count": 3,
   "id": "ab2a6ee7-b8fa-4ad0-8fe6-413e0da6c5f1",
   "metadata": {
    "tags": []
   },
   "outputs": [
    {
     "data": {
      "text/plain": [
       "<Figure size 640x480 with 0 Axes>"
      ]
     },
     "metadata": {},
     "output_type": "display_data"
    }
   ],
   "source": [
    "plt.set_cmap(cm.twilight_shifted)\n",
    "plt.set_cmap(cm.coolwarm)\n",
    "# plt.set_cmap(cm.RdBu_r)\n",
    "# plt.set_cmap(cm.gist_earth)\n",
    "\n",
    "def plotOptimization(f, x, s, y, grads, a, xyrange=1.):\n",
    "    \n",
    "    # norm = colors.NoNorm()\n",
    "    norm = colors.CenteredNorm()\n",
    "    # norm = colors.TwoSlopeNorm(vcenter=0.)\n",
    "\n",
    "    xx, yy = np.meshgrid(np.arange(-xyrange, xyrange, .01), \n",
    "                         np.arange(-xyrange, xyrange, .01))\n",
    "    Z = f([xx,yy])\n",
    "    \n",
    "    fig, axs = plt.subplots(6,1, figsize=(10,20), height_ratios=[6,1,1,1,1,1])\n",
    "    axs = axs.ravel()\n",
    "\n",
    "    im=axs[0].pcolormesh(xx,yy,Z, norm=norm, alpha=.5, zorder=1)\n",
    "    plt.colorbar(im)\n",
    "    axs[0].contour(xx,yy,Z, levels=11, norm=norm, alpha=.75, zorder=3)\n",
    "    axs[0].autoscale(enable=False, axis='both', tight=None)\n",
    "    axs[0].set_aspect('equal')\n",
    "\n",
    "    x = np.array(x).transpose()\n",
    "    grads = np.array(grads)\n",
    "    s = np.array(s)\n",
    "    y = np.array(y).transpose()\n",
    "    a = np.array(a)\n",
    "    \n",
    "    axs[0].scatter(x[0][0], x[1][0], marker='x', facecolor='r', s=100)\n",
    "    axs[0].plot(x[0], x[1], 'g', marker='+')\n",
    "    \n",
    "    axs[1].set_title('Update history')\n",
    "    axs[1].plot(s[:,0], s[:,1], label='$\\\\alpha_t s_t$')\n",
    "    axs[1].legend()\n",
    "    axs[1].set_aspect('equal')\n",
    "    \n",
    "    axs[2].plot(a, label='$\\\\alpha_t$')\n",
    "    axs[2].set_title('learning rates')\n",
    "    axs[2].legend()\n",
    "    \n",
    "    axs[3].set_title('Update step sizes')\n",
    "    axs[3].plot(np.linalg.norm(s, ord=2, axis=-1), label='$|\\\\alpha_t s_t|$')\n",
    "    axs[3].set_yscale('log')\n",
    "    axs[3].legend()\n",
    "    \n",
    "    axs[4].set_title('Objective history')\n",
    "    hdl1 = axs[4].plot(y, label='$f(x_t)$')\n",
    "    ax2 = axs[4].twinx()\n",
    "    hdl2 = ax2.plot(np.linalg.norm(grads, ord=2, axis=-1), c='r', label='$\\\\nabla f(x_t)$')\n",
    "    ax2.set_yscale('log')\n",
    "    \n",
    "    axs[4].legend(handles = hdl1 + hdl2)\n",
    "    \n",
    "    phi=calculate_angles(s)\n",
    "    \n",
    "    axs[5].set_title('History of angle between directions')\n",
    "    hdl3 = axs[5].plot(np.arange(1,phi.size+1),phi, label='$\\\\varphi_k$')    \n",
    "    axs[5].set_ylim(0,180)\n",
    "    axs[5].legend(handles = hdl3)\n",
    "    \n",
    "# when to terminate the iterations\n",
    "def terminate(i, s, y):\n",
    "    if i > 0:\n",
    "        b = False\n",
    "        \n",
    "        # too tiny steps\n",
    "        b = b or (np.linalg.norm(s[-1], ord=2) < 1e-9)\n",
    "        \n",
    "        # too little improvement\n",
    "        b = b or (np.abs(y[-1] - y[-2]) < 1e-9)\n",
    "        \n",
    "        # too large values\n",
    "        b = b or (y[-1] > 1e50)\n",
    "        return b\n",
    "    else:\n",
    "        return False"
   ]
  },
  {
   "cell_type": "code",
   "execution_count": 4,
   "id": "ccec5910-6d12-45a1-9450-6e6827754378",
   "metadata": {
    "tags": []
   },
   "outputs": [],
   "source": [
    "# some toy examples\n",
    "functions = {\n",
    "    'square':     lambda x_: x_[0]**2 + x_[1]**2, \n",
    "    'Rosenbrock': rosen,\n",
    "    'sixhumps':   lambda x_: ((4 - 2.1*x_[0]**2 + x_[0]**4 / 3.) * x_[0]**2 + \n",
    "                              x_[0] * x_[1] + (-4 + 4*x_[1]**2) * x_[1] **2),\n",
    "    'Himmelblau': lambda x_: (x_[0]**2 + x_[1] -11)**2 + (x_[0] + x_[1]**2 -7)**2,\n",
    "    'Beale':      lambda x_:   (1.500 - x_[0] + x_[0]*x_[1])**2 \n",
    "                             + (2.250 - x_[0] + x_[0]*x_[1]**2)**2\n",
    "                             + (2.625 - x_[0] + x_[0]*x_[1]**3)**2,\n",
    "    'Eggholder':  lambda x_:  -(x_[1] + .47)*np.sin(np.abs(x_[0]/2 + (x_[1] + .47)))\n",
    "                             - x_[0] * np.sin(np.abs(x_[0] - (x_[1] + .47))),\n",
    "    'Styblinski': lambda x_:   (x_[0]**4 - 16*x_[0]**2 + 5*x_[0]) \n",
    "                             - (x_[1]**4 - 16*x_[1]**2 + 5*x_[1]),\n",
    "    'Matlab 1':   lambda x_: np.log(1 + 3*(x_[1] - (x_[0]**3 - x_[0]))**2 + (x_[0] - 4./3.)**2),\n",
    "    'Matlab 2':   lambda x_: np.log(1 + 100. * (x_[0]**2 - x_[1])**2 + (1. - x_[1])**2)\n",
    "}"
   ]
  },
  {
   "cell_type": "code",
   "execution_count": 5,
   "id": "b4422389-9690-4f6e-b2ad-caedbf182621",
   "metadata": {
    "tags": []
   },
   "outputs": [],
   "source": [
    "# initial solution\n",
    "x0 = [-.5,-0.1]"
   ]
  },
  {
   "cell_type": "markdown",
   "id": "9bde956b",
   "metadata": {},
   "source": [
    "# Steepest Decent"
   ]
  },
  {
   "cell_type": "code",
   "execution_count": 6,
   "id": "2f1d4f3b-c1fb-4105-bf04-0f8d8538d7d6",
   "metadata": {
    "tags": []
   },
   "outputs": [
    {
     "data": {
      "application/vnd.jupyter.widget-view+json": {
       "model_id": "9c7771ec8b454d8086cb4a241dfa0a93",
       "version_major": 2,
       "version_minor": 0
      },
      "text/plain": [
       "interactive(children=(ToggleButtons(description='Function $f$', options={'square': <function <lambda> at 0x7fb…"
      ]
     },
     "metadata": {},
     "output_type": "display_data"
    }
   ],
   "source": [
    "@interact(f = widgets.ToggleButtons(\n",
    "                options     = functions,\n",
    "                description = 'Function $f$',\n",
    "              ),\n",
    "          x0 = fixed(x0),\n",
    "          a = widgets.FloatLogSlider(value=1e-1,\n",
    "                                     base=10, \n",
    "                                     min=-10, max=1, \n",
    "                                     step=.1, \n",
    "                                     continuous_update=False,\n",
    "                                     description='learning rate $\\\\alpha$',\n",
    "                                     style={'description_width':'initial'},\n",
    "                                     readout_format='.1e'),\n",
    "          max_iter = (1,15000, 1),\n",
    "          xyrange = (1,5,1)\n",
    "         )\n",
    "def doSD(f, x0=[0,0], a=1e-2, max_iter=150, xyrange=1.):\n",
    "    \n",
    "    xt = x0\n",
    "    at = 0.\n",
    "\n",
    "    x = list()\n",
    "    s = list()\n",
    "    y = list()\n",
    "    grads = list()\n",
    "    \n",
    "    for i in range(0,max_iter):\n",
    "\n",
    "        dy = approx_fprime(xt, f, epsilon=1e-8)\n",
    "        # dy /= np.linalg.norm(dy, ord=2)\n",
    "\n",
    "        st = -dy\n",
    "        at = a\n",
    "\n",
    "        if i == 0:\n",
    "            st *= 0\n",
    "\n",
    "        xt = xt + at * st \n",
    "        yt = f(xt)\n",
    "\n",
    "        grads.append(dy)\n",
    "        s.append(st)\n",
    "        x.append(xt)\n",
    "        y.append(yt)\n",
    "\n",
    "        if terminate(i, s, y):\n",
    "            break\n",
    "            \n",
    "    with warnings.catch_warnings():\n",
    "        warnings.simplefilter(\"ignore\")\n",
    "        plotOptimization(f, x, s, y, grads, a=np.ones_like(y)*a, xyrange=xyrange)"
   ]
  },
  {
   "cell_type": "markdown",
   "id": "e90b73f8-6397-4dc0-8ab4-45652092a531",
   "metadata": {},
   "source": [
    "## Stepest Descent with 1-D Line Search"
   ]
  },
  {
   "cell_type": "code",
   "execution_count": 7,
   "id": "5bab28eb-10e5-4b4e-99d2-3fed426c9e7b",
   "metadata": {},
   "outputs": [
    {
     "data": {
      "application/vnd.jupyter.widget-view+json": {
       "model_id": "0a81037d166f4e5185f0f789d5da8c56",
       "version_major": 2,
       "version_minor": 0
      },
      "text/plain": [
       "interactive(children=(ToggleButtons(description='Function $f$', options={'square': <function <lambda> at 0x7fb…"
      ]
     },
     "metadata": {},
     "output_type": "display_data"
    }
   ],
   "source": [
    "@interact(f = widgets.ToggleButtons(\n",
    "                options     = functions,\n",
    "                description = 'Function $f$',\n",
    "              ),\n",
    "          x0 = fixed(x0),\n",
    "          a = widgets.FloatLogSlider(value=1e-1,\n",
    "                                      base=10, \n",
    "                                      min=-10, max=0, \n",
    "                                      step=.1, \n",
    "                                      continuous_update=False,\n",
    "                                      description='learning rate $\\\\alpha$',\n",
    "                                      style={'description_width':'initial'},\n",
    "                                      readout_format='.1e'),\n",
    "          max_iter = (1,15000, 1),\n",
    "          xyrange = (1,5,1)\n",
    "         )\n",
    "\n",
    "def doSD(f, x0=[0,0], a=1e-2, max_iter=150, xyrange=1.):\n",
    "    \n",
    "    xt = x0\n",
    "    at = 0.\n",
    "\n",
    "    x = list()\n",
    "    s = list()\n",
    "    a = list()\n",
    "    y = list()\n",
    "    grads = list()\n",
    "        \n",
    "    with warnings.catch_warnings():\n",
    "        warnings.simplefilter(\"ignore\")\n",
    "        \n",
    "        for i in range(0,max_iter):\n",
    "\n",
    "            dy = approx_fprime(xt, f, epsilon=1e-8)\n",
    "            # dy /= np.linalg.norm(dy, ord=2)\n",
    "\n",
    "            st = -dy\n",
    "\n",
    "            if i == 0:\n",
    "                st *= 0\n",
    "            else:\n",
    "                #at = line_search(f, lambda x_: approx_fprime(x_, f), xt, st)[0] or a\n",
    "                unit_directions=st/np.linalg.norm(st)\n",
    "                g_line=lambda alpha: f(xt+alpha*unit_directions)\n",
    "                at = golden(g_line,brack=(0,5))/np.linalg.norm(st)\n",
    "            xt = xt + at * st \n",
    "            yt = f(xt)\n",
    "\n",
    "            grads.append(dy)\n",
    "            s.append(st)\n",
    "            x.append(xt)\n",
    "            y.append(yt)\n",
    "            a.append(at)\n",
    "\n",
    "            if terminate(i, s, y):\n",
    "                break\n",
    "\n",
    "        plotOptimization(f, x, s, y, grads, a, xyrange=xyrange)\n"
   ]
  },
  {
   "cell_type": "markdown",
   "id": "348de3fc-21b2-41a4-8c30-61301c27d85b",
   "metadata": {
    "tags": []
   },
   "source": [
    "## Conjugate Gradients"
   ]
  },
  {
   "cell_type": "code",
   "execution_count": 8,
   "id": "0636d36c-d451-45c0-bf6f-96acfe70067f",
   "metadata": {
    "tags": []
   },
   "outputs": [
    {
     "data": {
      "application/vnd.jupyter.widget-view+json": {
       "model_id": "7a7fa7f06ced442fb87fdc1640cca4c0",
       "version_major": 2,
       "version_minor": 0
      },
      "text/plain": [
       "interactive(children=(ToggleButtons(description='Function $f$', options={'square': <function <lambda> at 0x7fb…"
      ]
     },
     "metadata": {},
     "output_type": "display_data"
    }
   ],
   "source": [
    "@interact(f = widgets.ToggleButtons(\n",
    "                options     = functions,\n",
    "                description = 'Function $f$',\n",
    "              ),\n",
    "          x0 = fixed(x0),\n",
    "          max_iter = (1,1500, 1),\n",
    "          xyrange = (1,5,1)\n",
    "         )\n",
    "def doCG(f, x0=[0,0], max_iter=150, xyrange=1.):\n",
    "    \n",
    "    xt = x0\n",
    "    at = 0.\n",
    "\n",
    "    x = list()\n",
    "    s = list()\n",
    "    y = list()\n",
    "    grads = list()\n",
    "    a = list()\n",
    "    \n",
    "    for i in range(0,max_iter):\n",
    "        dy = approx_fprime(xt, f, epsilon=1e-8)\n",
    "        \n",
    "        if i > 1:\n",
    "            g_0 = np.linalg.norm(dy, ord=2, axis=-1)**2\n",
    "            g_1 = np.linalg.norm(grads[-1], ord=2, axis=-1)**2\n",
    "            bt = g_0 / g_1\n",
    "            st = -dy + bt * s[-1]\n",
    "            \n",
    "        else:\n",
    "            st = -dy\n",
    "            \n",
    "        if i == 0:\n",
    "            st *= 0\n",
    "        else:           \n",
    "            #at = line_search(f, lambda x_: approx_fprime(x_, f), xt, st)[0] or 1e-1\n",
    "            unit_directions=st/np.linalg.norm(st)\n",
    "            g_line=lambda alpha: f(xt+alpha*unit_directions)\n",
    "            at = golden(g_line,brack=(0,5))/np.linalg.norm(st)\n",
    "            \n",
    "        xt = xt + at * st\n",
    "        yt = f(xt)\n",
    "\n",
    "        grads.append(dy)\n",
    "        s.append(st)\n",
    "        x.append(xt)\n",
    "        y.append(yt)\n",
    "        a.append(at)\n",
    "\n",
    "        if terminate(i, s, y):\n",
    "            break\n",
    "            \n",
    "    with warnings.catch_warnings():\n",
    "        warnings.simplefilter(\"ignore\")\n",
    "        plotOptimization(f, x, s, y, grads, a, xyrange)"
   ]
  }
 ],
 "metadata": {
  "kernelspec": {
   "display_name": "Python 3 (ipykernel)",
   "language": "python",
   "name": "python3"
  },
  "language_info": {
   "codemirror_mode": {
    "name": "ipython",
    "version": 3
   },
   "file_extension": ".py",
   "mimetype": "text/x-python",
   "name": "python",
   "nbconvert_exporter": "python",
   "pygments_lexer": "ipython3",
   "version": "3.10.8"
  }
 },
 "nbformat": 4,
 "nbformat_minor": 5
}
